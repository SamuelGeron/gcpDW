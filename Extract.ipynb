{
  "nbformat": 4,
  "nbformat_minor": 0,
  "metadata": {
    "colab": {
      "name": "Extract.ipynb",
      "provenance": [],
      "collapsed_sections": [],
      "toc_visible": true,
      "authorship_tag": "ABX9TyNPN4vn37Ky931pVfa5cNyA",
      "include_colab_link": true
    },
    "kernelspec": {
      "name": "python3",
      "display_name": "Python 3"
    }
  },
  "cells": [
    {
      "cell_type": "markdown",
      "metadata": {
        "id": "view-in-github",
        "colab_type": "text"
      },
      "source": [
        "<a href=\"https://colab.research.google.com/github/SamuelGeron/gcpDW/blob/main/Extract.ipynb\" target=\"_parent\"><img src=\"https://colab.research.google.com/assets/colab-badge.svg\" alt=\"Open In Colab\"/></a>"
      ]
    },
    {
      "cell_type": "markdown",
      "metadata": {
        "id": "lje_Ok-VIqKe"
      },
      "source": [
        "# Payments Data"
      ]
    },
    {
      "cell_type": "markdown",
      "metadata": {
        "id": "icnJKtaS-Bha"
      },
      "source": [
        "## Import and Install Google Drive Libraries"
      ]
    },
    {
      "cell_type": "code",
      "metadata": {
        "id": "deCFRJFU9whB"
      },
      "source": [
        "#Imports and install\n",
        "!pip install PyDrive\n",
        "from pydrive.auth import GoogleAuth\n",
        "from pydrive.drive import GoogleDrive\n",
        "from google.colab import auth\n",
        "from oauth2client.client import GoogleCredentials"
      ],
      "execution_count": null,
      "outputs": []
    },
    {
      "cell_type": "markdown",
      "metadata": {
        "id": "oXGyWzFT-ONJ"
      },
      "source": [
        "## Authenticates"
      ]
    },
    {
      "cell_type": "code",
      "metadata": {
        "id": "RGPOkzHg-KCd"
      },
      "source": [
        "auth.authenticate_user()\n",
        "gauth = GoogleAuth()\n",
        "gauth.credentials = GoogleCredentials.get_application_default()\n",
        "drive = GoogleDrive(gauth)"
      ],
      "execution_count": 2,
      "outputs": []
    },
    {
      "cell_type": "markdown",
      "metadata": {
        "id": "xAWIHUoR-9yQ"
      },
      "source": [
        "## Get Data File"
      ]
    },
    {
      "cell_type": "code",
      "metadata": {
        "id": "FMmcoR_C-6wD"
      },
      "source": [
        "file_link = 'https://drive.google.com/open?id=1GlYrv7ex0ClxQwQ0NvJ4GTUGre7s8vtw'\n",
        "fluff, id = file_link.split('=')\n",
        "pagamentos_file = drive.CreateFile({'id':id}) \n",
        "pagamentos_file.GetContentFile('pagamentos.csv')  "
      ],
      "execution_count": 6,
      "outputs": []
    },
    {
      "cell_type": "markdown",
      "metadata": {
        "id": "aHvIITRC_xg3"
      },
      "source": [
        "## Store Data into Big Query"
      ]
    },
    {
      "cell_type": "code",
      "metadata": {
        "id": "dkL4y9p2Dfy4"
      },
      "source": [
        "import pandas as pd\n",
        "from pandas.io import gbq\n",
        "pagamentos = pd.read_csv('pagamentos.csv',names=[\"ClienteID\", \"DataDoPagamento\", \"Plano\", \"Valor\"])"
      ],
      "execution_count": 14,
      "outputs": []
    },
    {
      "cell_type": "code",
      "metadata": {
        "id": "r_ukzl_sFN36",
        "outputId": "14ec6c10-c4c9-4967-b5fa-f42b504b10d0",
        "colab": {
          "base_uri": "https://localhost:8080/",
          "height": 34
        }
      },
      "source": [
        "#Connect and ingest data into extract dataset\n",
        "pagamentos.to_gbq(destination_table='extract.pagamentos',\n",
        "                  project_id='animated-falcon-292800',\n",
        "                  if_exists='replace')"
      ],
      "execution_count": 16,
      "outputs": [
        {
          "output_type": "stream",
          "text": [
            "1it [00:05,  5.04s/it]\n"
          ],
          "name": "stderr"
        }
      ]
    },
    {
      "cell_type": "markdown",
      "metadata": {
        "id": "54yk_5YxIHeS"
      },
      "source": [
        "# Client Data"
      ]
    },
    {
      "cell_type": "markdown",
      "metadata": {
        "id": "2kH7nDHFMqye"
      },
      "source": [
        "## Import Libraries"
      ]
    },
    {
      "cell_type": "code",
      "metadata": {
        "id": "NXt3P1aWIlK9"
      },
      "source": [
        "import urllib3\n",
        "from urllib3 import request\n",
        "import certifi\n",
        "import json"
      ],
      "execution_count": 19,
      "outputs": []
    },
    {
      "cell_type": "markdown",
      "metadata": {
        "id": "P4Wh2RhkMt_l"
      },
      "source": [
        "## Certicate Handling"
      ]
    },
    {
      "cell_type": "code",
      "metadata": {
        "id": "2-_3YF3_LsVe"
      },
      "source": [
        "# handle certificate verification and SSL warnings\n",
        "# https://urllib3.readthedocs.io/en/latest/user-guide.html#ssl\n",
        "http = urllib3.PoolManager(\n",
        "       cert_reqs='CERT_REQUIRED',\n",
        "       ca_certs=certifi.where())"
      ],
      "execution_count": 22,
      "outputs": []
    },
    {
      "cell_type": "markdown",
      "metadata": {
        "id": "u-hXMjV_MyRc"
      },
      "source": [
        "## Retrieve Data"
      ]
    },
    {
      "cell_type": "code",
      "metadata": {
        "id": "LvdtvzOqJqB4"
      },
      "source": [
        "api_endpoint = 'https://demo0192734.mockable.io/clientes/'\n",
        "rest_output = http.request('GET', api_endpoint)\n",
        "clientes = json.loads(rest_output.data.decode('utf-8'))\n",
        "clientes_df = pd.json_normalize(clientes)\n",
        "clientes_df"
      ],
      "execution_count": null,
      "outputs": []
    },
    {
      "cell_type": "markdown",
      "metadata": {
        "id": "I7WrDZBNM9S4"
      },
      "source": [
        "## Store Data into BigQuery"
      ]
    },
    {
      "cell_type": "code",
      "metadata": {
        "id": "Nc7xgvV0ND2d",
        "outputId": "e7ab2d7b-1a7d-47d9-89b3-ce40c00b0b04",
        "colab": {
          "base_uri": "https://localhost:8080/",
          "height": 34
        }
      },
      "source": [
        "clientes_df.to_gbq(destination_table='extract.clientes',\n",
        "                  project_id='animated-falcon-292800',\n",
        "                  if_exists='replace')"
      ],
      "execution_count": 26,
      "outputs": [
        {
          "output_type": "stream",
          "text": [
            "1it [00:02,  2.57s/it]\n"
          ],
          "name": "stderr"
        }
      ]
    }
  ]
}