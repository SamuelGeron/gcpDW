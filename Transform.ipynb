{
  "nbformat": 4,
  "nbformat_minor": 0,
  "metadata": {
    "colab": {
      "name": "Transform.ipynb",
      "provenance": [],
      "collapsed_sections": [],
      "toc_visible": true,
      "authorship_tag": "ABX9TyNEWoTH1wNDGOKlY8mqaj6d",
      "include_colab_link": true
    },
    "kernelspec": {
      "name": "python3",
      "display_name": "Python 3"
    }
  },
  "cells": [
    {
      "cell_type": "markdown",
      "metadata": {
        "id": "view-in-github",
        "colab_type": "text"
      },
      "source": [
        "<a href=\"https://colab.research.google.com/github/SamuelGeron/gcpDW/blob/main/Transform.ipynb\" target=\"_parent\"><img src=\"https://colab.research.google.com/assets/colab-badge.svg\" alt=\"Open In Colab\"/></a>"
      ]
    },
    {
      "cell_type": "markdown",
      "metadata": {
        "id": "t512tNgqbgU-"
      },
      "source": [
        "# Create Dimensions and Fact Tables"
      ]
    },
    {
      "cell_type": "code",
      "metadata": {
        "id": "m0B2qA0Ecbgz"
      },
      "source": [
        "import pandas as pd\n",
        "from astropy.table import Table\n",
        "import numpy as np\n",
        "import re\n",
        "import locale\n",
        "from pandas.tseries.offsets import DateOffset\n",
        "from datetime import datetime\n",
        "from pandas.io import gbq\n",
        "from google.colab import auth\n",
        "auth.authenticate_user()\n",
        "project_id = 'animated-falcon-292800'\n",
        "from google.cloud import bigquery\n",
        "client = bigquery.Client(project=project_id)"
      ],
      "execution_count": 111,
      "outputs": []
    },
    {
      "cell_type": "markdown",
      "metadata": {
        "id": "AjXj590ZboeI"
      },
      "source": [
        "# Payments"
      ]
    },
    {
      "cell_type": "markdown",
      "metadata": {
        "id": "5VDq4F0mv2yy"
      },
      "source": [
        "#Dimensions"
      ]
    },
    {
      "cell_type": "markdown",
      "metadata": {
        "id": "0gGbLoOtxfR5"
      },
      "source": [
        "## Plano"
      ]
    },
    {
      "cell_type": "code",
      "metadata": {
        "id": "Z58HiV5qv8rg",
        "outputId": "76524821-f3c1-4a64-c2ee-86b14b93c860",
        "colab": {
          "base_uri": "https://localhost:8080/",
          "height": 34
        }
      },
      "source": [
        "#Query Plano from Big Query\n",
        "dim_pagamentos_plano = client.query('''\n",
        "\n",
        "SELECT \n",
        "  DISTINCT\n",
        "  ROW_NUMBER() OVER (ORDER BY Plano ASC) as PlanoID,\n",
        "  Plano,\n",
        "  Valor\n",
        "FROM `animated-falcon-292800.extract.pagamentos`\n",
        "GROUP BY Plano, Valor\n",
        "ORDER BY Plano\n",
        "\n",
        "''').to_dataframe();\n",
        "\n",
        "#Store Plano Dimension back to Big Query\n",
        "dim_pagamentos_plano.to_gbq(destination_table='transform.Dim_Pagamentos_Plano',\n",
        "                                project_id='animated-falcon-292800',\n",
        "                                if_exists='replace')"
      ],
      "execution_count": 112,
      "outputs": [
        {
          "output_type": "stream",
          "text": [
            "1it [00:04,  4.39s/it]\n"
          ],
          "name": "stderr"
        }
      ]
    },
    {
      "cell_type": "markdown",
      "metadata": {
        "id": "k4hduTWQw7UX"
      },
      "source": [
        "# Facts"
      ]
    },
    {
      "cell_type": "markdown",
      "metadata": {
        "id": "bPbnck8BZck2"
      },
      "source": [
        "## Query Data from Big Query"
      ]
    },
    {
      "cell_type": "code",
      "metadata": {
        "id": "hbsQZs4cP1td"
      },
      "source": [
        "fact_pagamentos = client.query('''\n",
        "\n",
        "SELECT \n",
        "  pag.ClienteID,\n",
        "  pag.DataDoPagamento,\n",
        "  pag.Valor,\n",
        "  pag.Plano,\n",
        "  dp.PlanoID\n",
        "FROM `animated-falcon-292800.extract.pagamentos` pag\n",
        "LEFT JOIN `animated-falcon-292800.transform.Dim_Pagamentos_Plano` dp\n",
        "  ON pag.Plano = dp.Plano\n",
        "\n",
        "''').to_dataframe();\n",
        "\n",
        "#Indexing Data\n",
        "fact_pagamentos['PagamentosID'] = np.arange(len(pagamentos))"
      ],
      "execution_count": 113,
      "outputs": []
    },
    {
      "cell_type": "code",
      "metadata": {
        "id": "L-8UqSi7Hofy"
      },
      "source": [
        "#Add months to date\n",
        "def add_months_to_date(date, months_to_add):\n",
        "  formatted_date = pd.to_datetime(date, format='%d/%m/%Y')\n",
        "  formatted_date = formatted_date + DateOffset(months=(months_to_add))\n",
        "  return formatted_date.strftime(\"%d/%m/%Y\")"
      ],
      "execution_count": 114,
      "outputs": []
    },
    {
      "cell_type": "markdown",
      "metadata": {
        "id": "JL0hqnk3aA3A"
      },
      "source": [
        "## Create a new table for pricing plan values\n"
      ]
    },
    {
      "cell_type": "code",
      "metadata": {
        "id": "DPn_BqSdojTP"
      },
      "source": [
        "#Creates another table with generated values based on SaaS Pricing Plan\n",
        "fact_pagamentos_vigencia = Table(names=('PagamentosID', 'DataVigencia', 'ValorVigencia'),dtype=('int', 'str', 'float'))\n",
        "for p in range(0, fact_pagamentos.Plano.size):\n",
        "  n_vigencia = int(re.findall(\"[^/]*$\", fact_pagamentos.Plano[p])[0]) + 1 \n",
        "  for n in range(1, n_vigencia):\n",
        "    #fix currency value\n",
        "    clean = fact_pagamentos.Valor[p][-(len(fact_pagamentos.Valor[p])-3):]\n",
        "    value = float(clean.replace(\".\",\"\").replace(\",\",\".\"))\n",
        "    #add row to new table\n",
        "    fact_pagamentos_vigencia.add_row((p,\n",
        "                     add_months_to_date(fact_pagamentos.DataDoPagamento[p], n-1),\n",
        "                     value/(n_vigencia-1)))"
      ],
      "execution_count": 115,
      "outputs": []
    },
    {
      "cell_type": "markdown",
      "metadata": {
        "id": "bi3fxu3NaPbs"
      },
      "source": [
        "## Store facts in Big Query"
      ]
    },
    {
      "cell_type": "code",
      "metadata": {
        "id": "pTB8FWNda5Z2",
        "outputId": "737d2562-4219-4d26-8856-9ceb9fc0dc96",
        "colab": {
          "base_uri": "https://localhost:8080/",
          "height": 34
        }
      },
      "source": [
        "#Vigencia\n",
        "fact_pagamentos_vigencia.to_pandas().to_gbq(destination_table='transform.Fact_Pagamentos_Vigencia',\n",
        "                                            project_id='animated-falcon-292800',\n",
        "                                            if_exists='replace')"
      ],
      "execution_count": 116,
      "outputs": [
        {
          "output_type": "stream",
          "text": [
            "1it [00:04,  4.36s/it]\n"
          ],
          "name": "stderr"
        }
      ]
    },
    {
      "cell_type": "code",
      "metadata": {
        "id": "zRoF63MA7Nhr",
        "outputId": "10690559-38b6-4494-c034-b36071fa452f",
        "colab": {
          "base_uri": "https://localhost:8080/",
          "height": 34
        }
      },
      "source": [
        "#Pagamentos\n",
        "fact_pagamentos.drop(columns=['Plano', 'Valor'])\n",
        "fact_pagamentos.to_gbq(destination_table='transform.Fact_Pagamentos',\n",
        "                                project_id='animated-falcon-292800',\n",
        "                                if_exists='replace')"
      ],
      "execution_count": 117,
      "outputs": [
        {
          "output_type": "stream",
          "text": [
            "1it [00:04,  4.34s/it]\n"
          ],
          "name": "stderr"
        }
      ]
    },
    {
      "cell_type": "markdown",
      "metadata": {
        "id": "snazXbpT8FMN"
      },
      "source": [
        "# Clients"
      ]
    },
    {
      "cell_type": "markdown",
      "metadata": {
        "id": "tx071cPZ8RBy"
      },
      "source": [
        "# Dimensions"
      ]
    },
    {
      "cell_type": "markdown",
      "metadata": {
        "id": "4LypbtUa8bXf"
      },
      "source": [
        "## Localizacao"
      ]
    },
    {
      "cell_type": "code",
      "metadata": {
        "id": "liMwOLLQ9IM4",
        "outputId": "bd38ba05-c5c7-4b54-ab09-897236686183",
        "colab": {
          "base_uri": "https://localhost:8080/",
          "height": 34
        }
      },
      "source": [
        "#Query Clients location from Big Query\n",
        "dim_clientes_localizacao = client.query('''\n",
        "\n",
        "SELECT \n",
        "  DISTINCT\n",
        "  ROW_NUMBER() OVER (ORDER BY cidade ASC) as LocalID,\n",
        "  cidade,\n",
        "  estado\n",
        "FROM `animated-falcon-292800.extract.clientes`\n",
        "GROUP BY cidade, estado\n",
        "ORDER BY cidade\n",
        "\n",
        "''').to_dataframe();\n",
        "\n",
        "#Store Dimension table in big query\n",
        "dim_clientes_localizacao.to_gbq(destination_table='transform.Dim_Clientes_Localizacao',\n",
        "                                project_id='animated-falcon-292800',\n",
        "                                if_exists='replace')"
      ],
      "execution_count": 118,
      "outputs": [
        {
          "output_type": "stream",
          "text": [
            "1it [00:05,  5.54s/it]\n"
          ],
          "name": "stderr"
        }
      ]
    },
    {
      "cell_type": "markdown",
      "metadata": {
        "id": "uZaU2capAdrr"
      },
      "source": [
        "## Segmento"
      ]
    },
    {
      "cell_type": "code",
      "metadata": {
        "id": "MgcCWmBlAanJ",
        "outputId": "c2bd4089-7b98-4874-abf5-fe96e300c926",
        "colab": {
          "base_uri": "https://localhost:8080/",
          "height": 34
        }
      },
      "source": [
        "#Query Clients segment from Big Query\n",
        "dim_clientes_segmento = client.query('''\n",
        "\n",
        "SELECT \n",
        "  DISTINCT\n",
        "  ROW_NUMBER() OVER (ORDER BY segmento ASC) as SegmentoID,\n",
        "  segmento\n",
        "FROM `animated-falcon-292800.extract.clientes`\n",
        "GROUP BY segmento\n",
        "\n",
        "''').to_dataframe();\n",
        "\n",
        "#Store Dimension table in big query\n",
        "dim_clientes_segmento.to_gbq(destination_table='transform.Dim_Clientes_Segmento',\n",
        "                                project_id='animated-falcon-292800',\n",
        "                                if_exists='replace')"
      ],
      "execution_count": 119,
      "outputs": [
        {
          "output_type": "stream",
          "text": [
            "1it [00:02,  2.44s/it]\n"
          ],
          "name": "stderr"
        }
      ]
    },
    {
      "cell_type": "markdown",
      "metadata": {
        "id": "VcBcy21bDhnv"
      },
      "source": [
        "## Store table with dimensions IDs\n"
      ]
    },
    {
      "cell_type": "code",
      "metadata": {
        "id": "NLcPmZC9DuG-",
        "outputId": "63b8b25a-1781-41d5-ed26-1798a17f48d9",
        "colab": {
          "base_uri": "https://localhost:8080/",
          "height": 34
        }
      },
      "source": [
        "#Query Client from Big Query and apply its respectives IDs for dimensions\n",
        "dim_clientes = client.query('''\n",
        "\n",
        "SELECT \n",
        "  id AS ClienteID,\n",
        "  nome as Empresa,\n",
        "  loc.LocalID,\n",
        "  seg.SegmentoID\n",
        "FROM `animated-falcon-292800.extract.clientes` cli\n",
        "LEFT JOIN `animated-falcon-292800.transform.Dim_Clientes_Localizacao` loc\n",
        "  ON cli.cidade = loc.cidade\n",
        "LEFT JOIN `animated-falcon-292800.transform.Dim_Clientes_Segmento` seg\n",
        "  ON cli.segmento = seg.segmento\n",
        "\n",
        "''').to_dataframe();\n",
        "\n",
        "#Store Dimension table in big query\n",
        "dim_clientes.to_gbq(destination_table='transform.Dim_Clientes',\n",
        "                                project_id='animated-falcon-292800',\n",
        "                                if_exists='replace')"
      ],
      "execution_count": 120,
      "outputs": [
        {
          "output_type": "stream",
          "text": [
            "1it [00:04,  4.76s/it]\n"
          ],
          "name": "stderr"
        }
      ]
    }
  ]
}