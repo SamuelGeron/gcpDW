{
  "nbformat": 4,
  "nbformat_minor": 0,
  "metadata": {
    "colab": {
      "name": "Transform.ipynb",
      "provenance": [],
      "collapsed_sections": [],
      "toc_visible": true,
      "authorship_tag": "ABX9TyMlKYRrT88nYIPn0xBoQWHW",
      "include_colab_link": true
    },
    "kernelspec": {
      "name": "python3",
      "display_name": "Python 3"
    }
  },
  "cells": [
    {
      "cell_type": "markdown",
      "metadata": {
        "id": "view-in-github",
        "colab_type": "text"
      },
      "source": [
        "<a href=\"https://colab.research.google.com/github/SamuelGeron/gcpDW/blob/main/Transform.ipynb\" target=\"_parent\"><img src=\"https://colab.research.google.com/assets/colab-badge.svg\" alt=\"Open In Colab\"/></a>"
      ]
    },
    {
      "cell_type": "markdown",
      "metadata": {
        "id": "t512tNgqbgU-"
      },
      "source": [
        "# Create Dimensions and Fact Tables"
      ]
    },
    {
      "cell_type": "code",
      "metadata": {
        "id": "m0B2qA0Ecbgz"
      },
      "source": [
        "import pandas as pd\n",
        "from astropy.table import Table\n",
        "import numpy as np\n",
        "import re\n",
        "import locale\n",
        "from pandas.tseries.offsets import DateOffset\n",
        "from datetime import datetime\n",
        "from pandas.io import gbq\n",
        "from google.colab import auth\n",
        "auth.authenticate_user()\n",
        "project_id = 'animated-falcon-292800'\n",
        "from google.cloud import bigquery\n",
        "client = bigquery.Client(project=project_id)"
      ],
      "execution_count": 27,
      "outputs": []
    },
    {
      "cell_type": "markdown",
      "metadata": {
        "id": "AjXj590ZboeI"
      },
      "source": [
        "# Payments"
      ]
    },
    {
      "cell_type": "markdown",
      "metadata": {
        "id": "5VDq4F0mv2yy"
      },
      "source": [
        "#Dimensions"
      ]
    },
    {
      "cell_type": "markdown",
      "metadata": {
        "id": "0gGbLoOtxfR5"
      },
      "source": [
        "## Plano"
      ]
    },
    {
      "cell_type": "code",
      "metadata": {
        "id": "Z58HiV5qv8rg",
        "outputId": "ece9cc9f-103c-4839-fc13-48e082c8ae16",
        "colab": {
          "base_uri": "https://localhost:8080/",
          "height": 34
        }
      },
      "source": [
        "#Query Plano from Big Query\n",
        "dim_pagamentos_plano = client.query('''\n",
        "\n",
        "SELECT \n",
        "  DISTINCT\n",
        "  ROW_NUMBER() OVER (ORDER BY Plano ASC) as PlanoID,\n",
        "  Plano,\n",
        "  Valor\n",
        "FROM `animated-falcon-292800.extract.pagamentos`\n",
        "GROUP BY Plano, Valor\n",
        "ORDER BY Plano\n",
        "\n",
        "''').to_dataframe();\n",
        "\n",
        "#Store Plano Dimension back to Big Query\n",
        "dim_pagamentos_plano.to_gbq(destination_table='transform.Dim_Pagamentos_Plano',\n",
        "                                project_id='animated-falcon-292800',\n",
        "                                if_exists='replace')"
      ],
      "execution_count": 28,
      "outputs": [
        {
          "output_type": "stream",
          "text": [
            "1it [00:03,  3.63s/it]\n"
          ],
          "name": "stderr"
        }
      ]
    },
    {
      "cell_type": "markdown",
      "metadata": {
        "id": "k4hduTWQw7UX"
      },
      "source": [
        "# Facts"
      ]
    },
    {
      "cell_type": "markdown",
      "metadata": {
        "id": "bPbnck8BZck2"
      },
      "source": [
        "## Query Data from Big Query"
      ]
    },
    {
      "cell_type": "code",
      "metadata": {
        "id": "hbsQZs4cP1td"
      },
      "source": [
        "fact_pagamentos = client.query('''\n",
        "\n",
        "SELECT \n",
        "  pag.ClienteID,\n",
        "  pag.DataDoPagamento,\n",
        "  pag.Valor,\n",
        "  pag.Plano,\n",
        "  dp.PlanoID\n",
        "FROM `animated-falcon-292800.extract.pagamentos` pag\n",
        "LEFT JOIN `animated-falcon-292800.transform.Dim_Pagamentos_Plano` dp\n",
        "  ON pag.Plano = dp.Plano\n",
        "    AND pag.Valor = dp.Valor\n",
        "\n",
        "''').to_dataframe();\n",
        "\n",
        "#Indexing Data\n",
        "fact_pagamentos['PagamentosID'] = np.arange(len(fact_pagamentos))"
      ],
      "execution_count": 29,
      "outputs": []
    },
    {
      "cell_type": "code",
      "metadata": {
        "id": "L-8UqSi7Hofy"
      },
      "source": [
        "#Add months to date\n",
        "def add_months_to_date(date, months_to_add):\n",
        "  formatted_date = pd.to_datetime(date, format='%d/%m/%Y')\n",
        "  formatted_date = formatted_date + DateOffset(months=(months_to_add))\n",
        "  return formatted_date.strftime(\"%d/%m/%Y\")"
      ],
      "execution_count": 30,
      "outputs": []
    },
    {
      "cell_type": "markdown",
      "metadata": {
        "id": "JL0hqnk3aA3A"
      },
      "source": [
        "## Create a new table for pricing plan values\n"
      ]
    },
    {
      "cell_type": "code",
      "metadata": {
        "id": "DPn_BqSdojTP"
      },
      "source": [
        "#Creates another table with generated values based on SaaS Pricing Plan\n",
        "fact_pagamentos_vigencia = Table(names=('PagamentosID', 'DataVigencia', 'ValorVigencia'),dtype=('int', 'str', 'float'))\n",
        "for p in range(0, fact_pagamentos.Plano.size):\n",
        "  n_vigencia = int(re.findall(\"[^/]*$\", fact_pagamentos.Plano[p])[0]) + 1 \n",
        "  for n in range(1, n_vigencia):\n",
        "    #fix currency value\n",
        "    clean = fact_pagamentos.Valor[p][-(len(fact_pagamentos.Valor[p])-3):]\n",
        "    value = float(clean.replace(\".\",\"\").replace(\",\",\".\"))\n",
        "    #add row to new table\n",
        "    fact_pagamentos_vigencia.add_row((p,\n",
        "                     add_months_to_date(fact_pagamentos.DataDoPagamento[p], n-1),\n",
        "                     value/(n_vigencia-1)))"
      ],
      "execution_count": 31,
      "outputs": []
    },
    {
      "cell_type": "markdown",
      "metadata": {
        "id": "bi3fxu3NaPbs"
      },
      "source": [
        "## Store facts in Big Query"
      ]
    },
    {
      "cell_type": "code",
      "metadata": {
        "id": "pTB8FWNda5Z2",
        "outputId": "7da898de-b083-41e3-f246-768a5666b070",
        "colab": {
          "base_uri": "https://localhost:8080/",
          "height": 34
        }
      },
      "source": [
        "#Vigencia\n",
        "fact_pagamentos_vigencia.to_pandas().to_gbq(destination_table='transform.Fact_Pagamentos_Vigencia',\n",
        "                                            project_id='animated-falcon-292800',\n",
        "                                            if_exists='replace')"
      ],
      "execution_count": 32,
      "outputs": [
        {
          "output_type": "stream",
          "text": [
            "1it [00:06,  6.66s/it]\n"
          ],
          "name": "stderr"
        }
      ]
    },
    {
      "cell_type": "code",
      "metadata": {
        "id": "zRoF63MA7Nhr",
        "outputId": "3c78bec7-0aab-4dbe-81c1-6123404f157d",
        "colab": {
          "base_uri": "https://localhost:8080/",
          "height": 34
        }
      },
      "source": [
        "#Pagamentos\n",
        "fact_pagamentos.drop(['Plano', 'Valor'], inplace=True, axis=1)\n",
        "fact_pagamentos.to_gbq(destination_table='transform.Fact_Pagamentos',\n",
        "                                project_id='animated-falcon-292800',\n",
        "                                if_exists='replace')"
      ],
      "execution_count": 33,
      "outputs": [
        {
          "output_type": "stream",
          "text": [
            "1it [00:05,  5.34s/it]\n"
          ],
          "name": "stderr"
        }
      ]
    },
    {
      "cell_type": "markdown",
      "metadata": {
        "id": "snazXbpT8FMN"
      },
      "source": [
        "# Clients"
      ]
    },
    {
      "cell_type": "markdown",
      "metadata": {
        "id": "tx071cPZ8RBy"
      },
      "source": [
        "# Dimensions"
      ]
    },
    {
      "cell_type": "markdown",
      "metadata": {
        "id": "4LypbtUa8bXf"
      },
      "source": [
        "## Localizacao"
      ]
    },
    {
      "cell_type": "code",
      "metadata": {
        "id": "liMwOLLQ9IM4",
        "outputId": "7cdd66a3-002d-4b5f-84a5-3b72f7df11cc",
        "colab": {
          "base_uri": "https://localhost:8080/",
          "height": 34
        }
      },
      "source": [
        "#Query Clients location from Big Query\n",
        "dim_clientes_localizacao = client.query('''\n",
        "\n",
        "SELECT \n",
        "  DISTINCT\n",
        "  ROW_NUMBER() OVER (ORDER BY cidade ASC) as LocalID,\n",
        "  cidade,\n",
        "  estado\n",
        "FROM `animated-falcon-292800.extract.clientes`\n",
        "GROUP BY cidade, estado\n",
        "ORDER BY cidade\n",
        "\n",
        "''').to_dataframe();\n",
        "\n",
        "#Store Dimension table in big query\n",
        "dim_clientes_localizacao.to_gbq(destination_table='transform.Dim_Clientes_Localizacao',\n",
        "                                project_id='animated-falcon-292800',\n",
        "                                if_exists='replace')"
      ],
      "execution_count": 34,
      "outputs": [
        {
          "output_type": "stream",
          "text": [
            "1it [00:03,  3.67s/it]\n"
          ],
          "name": "stderr"
        }
      ]
    },
    {
      "cell_type": "markdown",
      "metadata": {
        "id": "uZaU2capAdrr"
      },
      "source": [
        "## Segmento"
      ]
    },
    {
      "cell_type": "code",
      "metadata": {
        "id": "MgcCWmBlAanJ",
        "outputId": "c89662e1-1815-433f-a601-a1e927c065fd",
        "colab": {
          "base_uri": "https://localhost:8080/",
          "height": 34
        }
      },
      "source": [
        "#Query Clients segment from Big Query\n",
        "dim_clientes_segmento = client.query('''\n",
        "\n",
        "SELECT \n",
        "  DISTINCT\n",
        "  ROW_NUMBER() OVER (ORDER BY segmento ASC) as SegmentoID,\n",
        "  segmento\n",
        "FROM `animated-falcon-292800.extract.clientes`\n",
        "GROUP BY segmento\n",
        "\n",
        "''').to_dataframe();\n",
        "\n",
        "#Store Dimension table in big query\n",
        "dim_clientes_segmento.to_gbq(destination_table='transform.Dim_Clientes_Segmento',\n",
        "                                project_id='animated-falcon-292800',\n",
        "                                if_exists='replace')"
      ],
      "execution_count": 35,
      "outputs": [
        {
          "output_type": "stream",
          "text": [
            "1it [00:05,  5.63s/it]\n"
          ],
          "name": "stderr"
        }
      ]
    },
    {
      "cell_type": "markdown",
      "metadata": {
        "id": "VcBcy21bDhnv"
      },
      "source": [
        "## Store table with dimensions IDs\n"
      ]
    },
    {
      "cell_type": "code",
      "metadata": {
        "id": "NLcPmZC9DuG-",
        "outputId": "70d7af09-a2a9-44a1-df77-d589c6d6dd25",
        "colab": {
          "base_uri": "https://localhost:8080/",
          "height": 34
        }
      },
      "source": [
        "#Query Client from Big Query and apply its respectives IDs for dimensions\n",
        "dim_clientes = client.query('''\n",
        "\n",
        "SELECT \n",
        "  id AS ClienteID,\n",
        "  nome as Empresa,\n",
        "  loc.LocalID,\n",
        "  seg.SegmentoID\n",
        "FROM `animated-falcon-292800.extract.clientes` cli\n",
        "LEFT JOIN `animated-falcon-292800.transform.Dim_Clientes_Localizacao` loc\n",
        "  ON cli.cidade = loc.cidade\n",
        "    AND cli.estado = loc.estado\n",
        "LEFT JOIN `animated-falcon-292800.transform.Dim_Clientes_Segmento` seg\n",
        "  ON cli.segmento = seg.segmento\n",
        "\n",
        "''').to_dataframe();\n",
        "\n",
        "#Store Dimension table in big query\n",
        "dim_clientes.to_gbq(destination_table='transform.Dim_Clientes',\n",
        "                                project_id='animated-falcon-292800',\n",
        "                                if_exists='replace')"
      ],
      "execution_count": 36,
      "outputs": [
        {
          "output_type": "stream",
          "text": [
            "1it [00:04,  4.40s/it]\n"
          ],
          "name": "stderr"
        }
      ]
    }
  ]
}